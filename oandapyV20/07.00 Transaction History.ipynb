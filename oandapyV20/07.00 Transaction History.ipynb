{
 "cells": [
  {
   "cell_type": "markdown",
   "metadata": {},
   "source": [
    "<!--NAVIGATION-->\n",
    "< [Position Management](06.00 Position Management.ipynb) | [Contents](Index.ipynb) | [Pricing](08.00 Pricing.ipynb) >"
   ]
  },
  {
   "cell_type": "markdown",
   "metadata": {},
   "source": [
    "# Transaction History"
   ]
  },
  {
   "cell_type": "markdown",
   "metadata": {},
   "source": [
    "[OANDA REST-V20 API wrapper doc](http://oanda-api-v20.readthedocs.io/en/latest/endpoints/transactions.html)\n",
    "\n",
    "[OANDA API Getting Started](http://developer.oanda.com/rest-live-v20/introduction/)\n",
    "\n",
    "[OANDA DOC](http://developer.oanda.com/rest-live-v20/transactions-ep/)"
   ]
  },
  {
   "cell_type": "code",
   "execution_count": 1,
   "metadata": {},
   "outputs": [],
   "source": [
    "import pandas as pd\n",
    "import oandapyV20\n",
    "import oandapyV20.endpoints.transactions as trans\n",
    "import configparser"
   ]
  },
  {
   "cell_type": "code",
   "execution_count": 2,
   "metadata": {},
   "outputs": [],
   "source": [
    "config = configparser.ConfigParser()\n",
    "config.read('../config/config_v20.ini')\n",
    "accountID = config['oanda']['account_id']\n",
    "access_token = config['oanda']['api_key']"
   ]
  },
  {
   "cell_type": "code",
   "execution_count": 3,
   "metadata": {},
   "outputs": [],
   "source": [
    "client = oandapyV20.API(access_token=access_token)"
   ]
  },
  {
   "cell_type": "markdown",
   "metadata": {},
   "source": [
    "## Transaction List"
   ]
  },
  {
   "cell_type": "code",
   "execution_count": 10,
   "metadata": {},
   "outputs": [],
   "source": [
    "r = trans.TransactionList(accountID)"
   ]
  },
  {
   "cell_type": "code",
   "execution_count": 11,
   "metadata": {},
   "outputs": [
    {
     "data": {
      "text/plain": [
       "{'from': '2017-01-20T14:19:07.203130396Z',\n",
       " 'to': '2018-06-27T09:38:02.925860194Z',\n",
       " 'pageSize': 100,\n",
       " 'count': 27,\n",
       " 'pages': ['https://api-fxpractice.oanda.com/v3/accounts/101-003-5120019-001/transactions/idrange?from=1&to=27'],\n",
       " 'lastTransactionID': '27'}"
      ]
     },
     "execution_count": 11,
     "metadata": {},
     "output_type": "execute_result"
    }
   ],
   "source": [
    "res = client.request(r)\n",
    "res"
   ]
  },
  {
   "cell_type": "code",
   "execution_count": 14,
   "metadata": {},
   "outputs": [
    {
     "data": {
      "text/plain": [
       "'27'"
      ]
     },
     "execution_count": 14,
     "metadata": {},
     "output_type": "execute_result"
    }
   ],
   "source": [
    "txn_id = res['lastTransactionID']\n",
    "txn_id"
   ]
  },
  {
   "cell_type": "markdown",
   "metadata": {},
   "source": [
    "## Get the details of a single Account Transaction."
   ]
  },
  {
   "cell_type": "code",
   "execution_count": 15,
   "metadata": {},
   "outputs": [],
   "source": [
    "r = trans.TransactionDetails(accountID=accountID, transactionID=txn_id)"
   ]
  },
  {
   "cell_type": "code",
   "execution_count": 16,
   "metadata": {},
   "outputs": [
    {
     "data": {
      "text/plain": [
       "{'transaction': {'type': 'ORDER_FILL',\n",
       "  'orderID': '26',\n",
       "  'instrument': 'AUD_USD',\n",
       "  'units': '-100',\n",
       "  'price': '0.73782',\n",
       "  'pl': '-0.0123',\n",
       "  'financing': '0.0000',\n",
       "  'commission': '0.0000',\n",
       "  'accountBalance': '99999.9481',\n",
       "  'gainQuoteHomeConversionFactor': '1.36373',\n",
       "  'lossQuoteHomeConversionFactor': '1.36393',\n",
       "  'guaranteedExecutionFee': '0.0000',\n",
       "  'halfSpreadCost': '0.0089',\n",
       "  'reason': 'MARKET_ORDER_POSITION_CLOSEOUT',\n",
       "  'tradesClosed': [{'tradeID': '21',\n",
       "    'units': '-100',\n",
       "    'realizedPL': '-0.0123',\n",
       "    'financing': '0.0000',\n",
       "    'price': '0.73782',\n",
       "    'guaranteedExecutionFee': '0.0000',\n",
       "    'halfSpreadCost': '0.0089'}],\n",
       "  'fullPrice': {'closeoutBid': '0.73767',\n",
       "   'closeoutAsk': '0.73810',\n",
       "   'timestamp': '2018-06-27T09:36:06.932442212Z',\n",
       "   'bids': [{'price': '0.73782', 'liquidity': '10000000'}],\n",
       "   'asks': [{'price': '0.73795', 'liquidity': '10000000'}]},\n",
       "  'id': '27',\n",
       "  'userID': 5120019,\n",
       "  'accountID': '101-003-5120019-001',\n",
       "  'batchID': '26',\n",
       "  'requestID': '78475265958901460',\n",
       "  'time': '2018-06-27T09:37:00.342395956Z'},\n",
       " 'lastTransactionID': '27'}"
      ]
     },
     "execution_count": 16,
     "metadata": {},
     "output_type": "execute_result"
    }
   ],
   "source": [
    "client.request(r)"
   ]
  },
  {
   "cell_type": "markdown",
   "metadata": {},
   "source": [
    "<!--NAVIGATION-->\n",
    "< [Position Management](06.00 Position Management.ipynb) | [Contents](Index.ipynb) | [Pricing](08.00 Pricing.ipynb) >"
   ]
  },
  {
   "cell_type": "markdown",
   "metadata": {},
   "source": [
    "***"
   ]
  }
 ],
 "metadata": {
  "anaconda-cloud": {},
  "kernelspec": {
   "display_name": "Python 3",
   "language": "python",
   "name": "python3"
  },
  "language_info": {
   "codemirror_mode": {
    "name": "ipython",
    "version": 3
   },
   "file_extension": ".py",
   "mimetype": "text/x-python",
   "name": "python",
   "nbconvert_exporter": "python",
   "pygments_lexer": "ipython3",
   "version": "3.6.3"
  }
 },
 "nbformat": 4,
 "nbformat_minor": 1
}
