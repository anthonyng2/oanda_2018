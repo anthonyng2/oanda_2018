{
 "cells": [
  {
   "cell_type": "markdown",
   "metadata": {},
   "source": [
    "# Bonus Materials"
   ]
  },
  {
   "cell_type": "markdown",
   "metadata": {},
   "source": [
    "Vectorised backtesting"
   ]
  },
  {
   "cell_type": "markdown",
   "metadata": {},
   "source": [
    "[Time Series Momentum](https://papers.ssrn.com/sol3/papers.cfm?abstract_id=2089463)"
   ]
  },
  {
   "cell_type": "code",
   "execution_count": null,
   "metadata": {},
   "outputs": [],
   "source": [
    "import pandas as pd\n",
    "\n",
    "import numpy as np\n",
    "import pandas as pd\n",
    "import oandapyV20\n",
    "from oandapyV20 import API\n",
    "import oandapyV20.endpoints.instruments as instruments\n",
    "import configparser\n",
    "%matplotlib inline\n",
    "import seaborn as sns\n",
    "import matplotlib.pyplot as plt\n",
    "\n",
    "config = configparser.ConfigParser()\n",
    "config.read('../config/config_v20.ini')\n",
    "accountID = config['oanda']['account_id']\n",
    "access_token = config['oanda']['api_key']\n",
    "\n",
    "client = oandapyV20.API(access_token=access_token)"
   ]
  },
  {
   "cell_type": "code",
   "execution_count": null,
   "metadata": {},
   "outputs": [],
   "source": [
    "params = {\n",
    "          \"count\": 5000,\n",
    "          \"granularity\": \"D\"}\n",
    "r = instruments.InstrumentsCandles(instrument=\"EUR_USD\",\n",
    "                                   params=params)\n",
    "res = client.request(r)['candles']"
   ]
  },
  {
   "cell_type": "code",
   "execution_count": null,
   "metadata": {},
   "outputs": [],
   "source": [
    "df = pd.DataFrame([[oo['time'], oo['volume'], float(oo['mid']['o']), \n",
    "                    float(oo['mid']['h']), float(oo['mid']['l']), \n",
    "                    float(oo['mid']['c'])] for oo in res],\n",
    "                 columns=['time', 'vol', 'o', 'h', 'l', 'c'])"
   ]
  },
  {
   "cell_type": "code",
   "execution_count": null,
   "metadata": {
    "scrolled": true
   },
   "outputs": [],
   "source": [
    "df['time'] = pd.to_datetime(df['time'])\n",
    "df.set_index('time', inplace=True)"
   ]
  },
  {
   "cell_type": "code",
   "execution_count": null,
   "metadata": {},
   "outputs": [],
   "source": [
    "df['rtns'] = df['c'].pct_change()"
   ]
  },
  {
   "cell_type": "code",
   "execution_count": null,
   "metadata": {},
   "outputs": [],
   "source": [
    "dtrain = df[0:3000].copy()\n",
    "dtest = df[3000:].copy()"
   ]
  },
  {
   "cell_type": "markdown",
   "metadata": {},
   "source": [
    "# Experiment With the Training Data Set"
   ]
  },
  {
   "cell_type": "code",
   "execution_count": null,
   "metadata": {},
   "outputs": [],
   "source": [
    "k = range(50, 300, 20)    # average window length\n",
    "h = 1     # holding period of 1"
   ]
  },
  {
   "cell_type": "code",
   "execution_count": null,
   "metadata": {},
   "outputs": [],
   "source": [
    "for oo in k:\n",
    "    dtrain['signal'] = np.sign(dtrain['rtns'].rolling(oo).sum())\n",
    "    dtrain['strategy_rtn'] =  dtrain['signal'].shift(1) * dtrain['rtns']\n",
    "    res = dtrain['strategy_rtn'].dropna().sum()\n",
    "    print('{0:3} {1:>8.4f}'.format(oo, res))"
   ]
  },
  {
   "cell_type": "markdown",
   "metadata": {},
   "source": [
    "***"
   ]
  },
  {
   "cell_type": "markdown",
   "metadata": {},
   "source": [
    "# Vectorized Backtesting With the Test Set - Momentum\n",
    "\n",
    "Note: we use the k=11,h=1 combination as it has the highest returns in the training set "
   ]
  },
  {
   "cell_type": "code",
   "execution_count": null,
   "metadata": {},
   "outputs": [],
   "source": [
    "dtest['signal'] = np.sign(dtest['rtns'].rolling(90).sum())\n",
    "dtest['result'] = dtest['signal'].shift(1) * dtest['rtns']\n",
    "dtest['result'].dropna().cumsum().plot(figsize=(10,6));"
   ]
  },
  {
   "cell_type": "markdown",
   "metadata": {},
   "source": [
    "***"
   ]
  },
  {
   "cell_type": "markdown",
   "metadata": {},
   "source": [
    "# Vectorized Backtesting With the Test Set - Reversion\n",
    "\n",
    "Note: we use the k=3,h=1 combination as it has the highest returns in the training set for a reversion strategy"
   ]
  },
  {
   "cell_type": "code",
   "execution_count": null,
   "metadata": {},
   "outputs": [],
   "source": [
    "dtest['signal'] = - np.sign(dtest['rtns'].rolling(250).sum())\n",
    "dtest['result'] = dtest['signal'].shift(1) * dtest['rtns']\n",
    "dtest['result'].dropna().cumsum().plot(figsize=(10,6));"
   ]
  },
  {
   "cell_type": "code",
   "execution_count": null,
   "metadata": {},
   "outputs": [],
   "source": []
  },
  {
   "cell_type": "code",
   "execution_count": null,
   "metadata": {},
   "outputs": [],
   "source": []
  }
 ],
 "metadata": {
  "anaconda-cloud": {},
  "kernelspec": {
   "display_name": "Python 3",
   "language": "python",
   "name": "python3"
  },
  "language_info": {
   "codemirror_mode": {
    "name": "ipython",
    "version": 3
   },
   "file_extension": ".py",
   "mimetype": "text/x-python",
   "name": "python",
   "nbconvert_exporter": "python",
   "pygments_lexer": "ipython3",
   "version": "3.6.3"
  }
 },
 "nbformat": 4,
 "nbformat_minor": 1
}
