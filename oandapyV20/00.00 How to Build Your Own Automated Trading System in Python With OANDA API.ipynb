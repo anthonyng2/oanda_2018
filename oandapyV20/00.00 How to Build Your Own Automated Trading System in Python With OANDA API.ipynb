{
 "cells": [
  {
   "cell_type": "markdown",
   "metadata": {},
   "source": [
    "<!--NAVIGATION-->\n",
    "| [Contents](Index.ipynb) | [Introduction](01.00 Introduction.ipynb) >"
   ]
  },
  {
   "cell_type": "markdown",
   "metadata": {},
   "source": [
    "# How to Build Your Own Automated Trading System in Python With OANDA v20 REST API\n",
    "\n",
    "**Course Overview**: In this course you will learn how to develop your own currency pairs, CFDs, and commodities automated trading system using Python and the Oanda v20 REST API. At the end of the course you will be able to:\n",
    "\n",
    "*\tGain a deeper understanding of Python and its ecosystem \n",
    "*\tUtilise Oanda platform and its API\n",
    "*\tExtract live market rates\n",
    "*\tDownload a list of tradable instruments (currency pairs, CFDs, and commodities) on the Oanda Platform\n",
    "*\tObtain account information, margin utilised, open orders, open trades, realized and unrealized profit and loss\n",
    "*\tCreate and manage open orders\n",
    "*\tPerform trade management (monitor, modify or close)\n",
    "*\tPerform aggregate position management (monitor, modify or close)\n",
    "*\tDownload transaction history for further analysis\n",
    "*\tStream live market rates\n",
    "\n",
    "Anthony Ng: is a Senior Lecturer at Nanyang Polytechnic teaching banking, finance, investment and portfolio management. He assists Quantopian to conduct Algorithmic Trading Workshops in Singapore and has presented in the recent [QuantCon Singapore 2016](http://quantcon.sg/) on the topic of [Time Series Momentum](https://www.slideshare.net/secret/lBqnOY9iNVtN29?utm_source=QuantConSingaporeAll2016&utm_campaign=33bb85cfc1-QuantCon_Sg_Conference_Survey_2016_11_03&utm_medium=email&utm_term=0_993087bc86-33bb85cfc1-109083229). Passionate with finance, data science and python, Anthony enjoyed researching, teaching and sharing on these topics. Anthony studied Masters of Science in Financial Engineering at NUS Singapore. Recently a team of students that he coached went on to win the [CME 2016 group trading challenge](http://www.cmegroup.com/education/trading_challenge/past-challenge-winners.html). You can reach or track him on:\n",
    "\n",
    "Email: anthonytyng@gmail.com\n",
    "\n",
    "Linkedin: https://sg.linkedin.com/in/anthony-ng-7b03bb6\n",
    "\n",
    "Github: https://github.com/anthonyng2/"
   ]
  },
  {
   "cell_type": "markdown",
   "metadata": {},
   "source": [
    "<!--NAVIGATION-->\n",
    "| [Contents](Index.ipynb) | [Introduction](01.00 Introduction.ipynb) >"
   ]
  }
 ],
 "metadata": {
  "anaconda-cloud": {},
  "kernelspec": {
   "display_name": "Python 3",
   "language": "python",
   "name": "python3"
  },
  "language_info": {
   "codemirror_mode": {
    "name": "ipython",
    "version": 3
   },
   "file_extension": ".py",
   "mimetype": "text/x-python",
   "name": "python",
   "nbconvert_exporter": "python",
   "pygments_lexer": "ipython3",
   "version": "3.6.5"
  }
 },
 "nbformat": 4,
 "nbformat_minor": 1
}
