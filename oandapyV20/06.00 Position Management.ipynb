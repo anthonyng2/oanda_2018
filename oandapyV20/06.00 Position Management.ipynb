{
 "cells": [
  {
   "cell_type": "markdown",
   "metadata": {},
   "source": [
    "<!--NAVIGATION-->\n",
    "< [Trade Management](05.00 Trade Management.ipynb) | [Contents](Index.ipynb) | [Transaction History](07.00 Transaction History.ipynb) >\n"
   ]
  },
  {
   "cell_type": "markdown",
   "metadata": {},
   "source": [
    "# Position Management"
   ]
  },
  {
   "cell_type": "markdown",
   "metadata": {},
   "source": [
    "[OANDA REST-V20 API Wrapper Doc on Position](http://oanda-api-v20.readthedocs.io/en/latest/endpoints/positions.html)\n",
    "\n",
    "[OANDA API Getting Started](http://developer.oanda.com/rest-live-v20/introduction/)\n",
    "\n",
    "[OANDA DOC on Position](http://developer.oanda.com/rest-live-v20/positions-ep/)"
   ]
  },
  {
   "cell_type": "code",
   "execution_count": 1,
   "metadata": {},
   "outputs": [],
   "source": [
    "import pandas as pd\n",
    "import oandapyV20\n",
    "import oandapyV20.endpoints.positions as positions\n",
    "import configparser"
   ]
  },
  {
   "cell_type": "code",
   "execution_count": 2,
   "metadata": {},
   "outputs": [],
   "source": [
    "config = configparser.ConfigParser()\n",
    "config.read('../config/config_v20.ini')\n",
    "accountID = config['oanda']['account_id']\n",
    "access_token = config['oanda']['api_key']"
   ]
  },
  {
   "cell_type": "code",
   "execution_count": 3,
   "metadata": {},
   "outputs": [],
   "source": [
    "client = oandapyV20.API(access_token=access_token)"
   ]
  },
  {
   "cell_type": "markdown",
   "metadata": {},
   "source": [
    "## List all Positions for an Account. "
   ]
  },
  {
   "cell_type": "code",
   "execution_count": 4,
   "metadata": {},
   "outputs": [],
   "source": [
    "r = positions.PositionList(accountID=accountID)"
   ]
  },
  {
   "cell_type": "code",
   "execution_count": 5,
   "metadata": {
    "scrolled": false
   },
   "outputs": [
    {
     "data": {
      "text/plain": [
       "{'positions': [{'instrument': 'EUR_USD',\n",
       "   'long': {'units': '0',\n",
       "    'pl': '0.0000',\n",
       "    'resettablePL': '0.0000',\n",
       "    'financing': '0.0000',\n",
       "    'guaranteedExecutionFees': '0.0000',\n",
       "    'unrealizedPL': '0.0000'},\n",
       "   'short': {'units': '0',\n",
       "    'pl': '0.0000',\n",
       "    'resettablePL': '0.0000',\n",
       "    'financing': '0.0000',\n",
       "    'guaranteedExecutionFees': '0.0000',\n",
       "    'unrealizedPL': '0.0000'},\n",
       "   'pl': '0.0000',\n",
       "   'resettablePL': '0.0000',\n",
       "   'financing': '0.0000',\n",
       "   'commission': '0.0000',\n",
       "   'guaranteedExecutionFees': '0.0000',\n",
       "   'unrealizedPL': '0.0000',\n",
       "   'marginUsed': '0.0000'},\n",
       "  {'instrument': 'GBP_USD',\n",
       "   'long': {'units': '100',\n",
       "    'averagePrice': '1.32130',\n",
       "    'pl': '-0.0396',\n",
       "    'resettablePL': '-0.0396',\n",
       "    'financing': '0.0000',\n",
       "    'guaranteedExecutionFees': '0.0000',\n",
       "    'tradeIDs': ['19'],\n",
       "    'unrealizedPL': '-0.0477'},\n",
       "   'short': {'units': '0',\n",
       "    'pl': '0.0000',\n",
       "    'resettablePL': '0.0000',\n",
       "    'financing': '0.0000',\n",
       "    'guaranteedExecutionFees': '0.0000',\n",
       "    'unrealizedPL': '0.0000'},\n",
       "   'pl': '-0.0396',\n",
       "   'resettablePL': '-0.0396',\n",
       "   'financing': '0.0000',\n",
       "   'commission': '0.0000',\n",
       "   'guaranteedExecutionFees': '0.0000',\n",
       "   'unrealizedPL': '-0.0477',\n",
       "   'marginUsed': '3.6034'},\n",
       "  {'instrument': 'AUD_USD',\n",
       "   'long': {'units': '100',\n",
       "    'averagePrice': '0.73791',\n",
       "    'pl': '0.0000',\n",
       "    'resettablePL': '0.0000',\n",
       "    'financing': '0.0000',\n",
       "    'guaranteedExecutionFees': '0.0000',\n",
       "    'tradeIDs': ['21'],\n",
       "    'unrealizedPL': '-0.0123'},\n",
       "   'short': {'units': '0',\n",
       "    'pl': '0.0000',\n",
       "    'resettablePL': '0.0000',\n",
       "    'financing': '0.0000',\n",
       "    'guaranteedExecutionFees': '0.0000',\n",
       "    'unrealizedPL': '0.0000'},\n",
       "   'pl': '0.0000',\n",
       "   'resettablePL': '0.0000',\n",
       "   'financing': '0.0000',\n",
       "   'commission': '0.0000',\n",
       "   'guaranteedExecutionFees': '0.0000',\n",
       "   'unrealizedPL': '-0.0123',\n",
       "   'marginUsed': '3.0191'}],\n",
       " 'lastTransactionID': '25'}"
      ]
     },
     "execution_count": 5,
     "metadata": {},
     "output_type": "execute_result"
    }
   ],
   "source": [
    "client.request(r)"
   ]
  },
  {
   "cell_type": "code",
   "execution_count": 6,
   "metadata": {},
   "outputs": [
    {
     "name": "stdout",
     "output_type": "stream",
     "text": [
      "{'positions': [{'instrument': 'EUR_USD', 'long': {'units': '0', 'pl': '0.0000', 'resettablePL': '0.0000', 'financing': '0.0000', 'guaranteedExecutionFees': '0.0000', 'unrealizedPL': '0.0000'}, 'short': {'units': '0', 'pl': '0.0000', 'resettablePL': '0.0000', 'financing': '0.0000', 'guaranteedExecutionFees': '0.0000', 'unrealizedPL': '0.0000'}, 'pl': '0.0000', 'resettablePL': '0.0000', 'financing': '0.0000', 'commission': '0.0000', 'guaranteedExecutionFees': '0.0000', 'unrealizedPL': '0.0000', 'marginUsed': '0.0000'}, {'instrument': 'GBP_USD', 'long': {'units': '100', 'averagePrice': '1.32130', 'pl': '-0.0396', 'resettablePL': '-0.0396', 'financing': '0.0000', 'guaranteedExecutionFees': '0.0000', 'tradeIDs': ['19'], 'unrealizedPL': '-0.0477'}, 'short': {'units': '0', 'pl': '0.0000', 'resettablePL': '0.0000', 'financing': '0.0000', 'guaranteedExecutionFees': '0.0000', 'unrealizedPL': '0.0000'}, 'pl': '-0.0396', 'resettablePL': '-0.0396', 'financing': '0.0000', 'commission': '0.0000', 'guaranteedExecutionFees': '0.0000', 'unrealizedPL': '-0.0477', 'marginUsed': '3.6034'}, {'instrument': 'AUD_USD', 'long': {'units': '100', 'averagePrice': '0.73791', 'pl': '0.0000', 'resettablePL': '0.0000', 'financing': '0.0000', 'guaranteedExecutionFees': '0.0000', 'tradeIDs': ['21'], 'unrealizedPL': '-0.0123'}, 'short': {'units': '0', 'pl': '0.0000', 'resettablePL': '0.0000', 'financing': '0.0000', 'guaranteedExecutionFees': '0.0000', 'unrealizedPL': '0.0000'}, 'pl': '0.0000', 'resettablePL': '0.0000', 'financing': '0.0000', 'commission': '0.0000', 'guaranteedExecutionFees': '0.0000', 'unrealizedPL': '-0.0123', 'marginUsed': '3.0191'}], 'lastTransactionID': '25'}\n"
     ]
    }
   ],
   "source": [
    "print(r.response)"
   ]
  },
  {
   "cell_type": "markdown",
   "metadata": {},
   "source": [
    "## List all open Positions for an Account."
   ]
  },
  {
   "cell_type": "code",
   "execution_count": 7,
   "metadata": {},
   "outputs": [],
   "source": [
    "r = positions.OpenPositions(accountID=accountID)"
   ]
  },
  {
   "cell_type": "code",
   "execution_count": 8,
   "metadata": {},
   "outputs": [
    {
     "data": {
      "text/plain": [
       "{'positions': [{'instrument': 'GBP_USD',\n",
       "   'long': {'units': '100',\n",
       "    'averagePrice': '1.32130',\n",
       "    'pl': '-0.0396',\n",
       "    'resettablePL': '-0.0396',\n",
       "    'financing': '0.0000',\n",
       "    'guaranteedExecutionFees': '0.0000',\n",
       "    'tradeIDs': ['19'],\n",
       "    'unrealizedPL': '-0.0573'},\n",
       "   'short': {'units': '0',\n",
       "    'pl': '0.0000',\n",
       "    'resettablePL': '0.0000',\n",
       "    'financing': '0.0000',\n",
       "    'guaranteedExecutionFees': '0.0000',\n",
       "    'unrealizedPL': '0.0000'},\n",
       "   'pl': '-0.0396',\n",
       "   'resettablePL': '-0.0396',\n",
       "   'financing': '0.0000',\n",
       "   'commission': '0.0000',\n",
       "   'guaranteedExecutionFees': '0.0000',\n",
       "   'unrealizedPL': '-0.0573',\n",
       "   'marginUsed': '3.6032'},\n",
       "  {'instrument': 'AUD_USD',\n",
       "   'long': {'units': '100',\n",
       "    'averagePrice': '0.73791',\n",
       "    'pl': '0.0000',\n",
       "    'resettablePL': '0.0000',\n",
       "    'financing': '0.0000',\n",
       "    'guaranteedExecutionFees': '0.0000',\n",
       "    'tradeIDs': ['21'],\n",
       "    'unrealizedPL': '-0.0123'},\n",
       "   'short': {'units': '0',\n",
       "    'pl': '0.0000',\n",
       "    'resettablePL': '0.0000',\n",
       "    'financing': '0.0000',\n",
       "    'guaranteedExecutionFees': '0.0000',\n",
       "    'unrealizedPL': '0.0000'},\n",
       "   'pl': '0.0000',\n",
       "   'resettablePL': '0.0000',\n",
       "   'financing': '0.0000',\n",
       "   'commission': '0.0000',\n",
       "   'guaranteedExecutionFees': '0.0000',\n",
       "   'unrealizedPL': '-0.0123',\n",
       "   'marginUsed': '3.0191'}],\n",
       " 'lastTransactionID': '25'}"
      ]
     },
     "execution_count": 8,
     "metadata": {},
     "output_type": "execute_result"
    }
   ],
   "source": [
    "client.request(r)"
   ]
  },
  {
   "cell_type": "markdown",
   "metadata": {},
   "source": [
    "## Get the details of a single instrument’s position in an Account"
   ]
  },
  {
   "cell_type": "code",
   "execution_count": 9,
   "metadata": {},
   "outputs": [],
   "source": [
    "instrument = \"AUD_USD\""
   ]
  },
  {
   "cell_type": "code",
   "execution_count": 10,
   "metadata": {},
   "outputs": [],
   "source": [
    "r = positions.PositionDetails(accountID=accountID, instrument=instrument)"
   ]
  },
  {
   "cell_type": "code",
   "execution_count": 11,
   "metadata": {},
   "outputs": [
    {
     "data": {
      "text/plain": [
       "{'position': {'instrument': 'AUD_USD',\n",
       "  'long': {'units': '100',\n",
       "   'averagePrice': '0.73791',\n",
       "   'pl': '0.0000',\n",
       "   'resettablePL': '0.0000',\n",
       "   'financing': '0.0000',\n",
       "   'guaranteedExecutionFees': '0.0000',\n",
       "   'tradeIDs': ['21'],\n",
       "   'unrealizedPL': '-0.0123'},\n",
       "  'short': {'units': '0',\n",
       "   'pl': '0.0000',\n",
       "   'resettablePL': '0.0000',\n",
       "   'financing': '0.0000',\n",
       "   'guaranteedExecutionFees': '0.0000',\n",
       "   'unrealizedPL': '0.0000'},\n",
       "  'pl': '0.0000',\n",
       "  'resettablePL': '0.0000',\n",
       "  'financing': '0.0000',\n",
       "  'commission': '0.0000',\n",
       "  'guaranteedExecutionFees': '0.0000',\n",
       "  'unrealizedPL': '-0.0123',\n",
       "  'marginUsed': '3.0190'},\n",
       " 'lastTransactionID': '25'}"
      ]
     },
     "execution_count": 11,
     "metadata": {},
     "output_type": "execute_result"
    }
   ],
   "source": [
    "client.request(r)"
   ]
  },
  {
   "cell_type": "markdown",
   "metadata": {},
   "source": [
    "## Closeout the open Position regarding instrument in an Account."
   ]
  },
  {
   "cell_type": "code",
   "execution_count": 12,
   "metadata": {},
   "outputs": [],
   "source": [
    "data = {\n",
    "  \"longUnits\": \"ALL\"\n",
    "}"
   ]
  },
  {
   "cell_type": "code",
   "execution_count": 13,
   "metadata": {},
   "outputs": [],
   "source": [
    "r = positions.PositionClose(accountID=accountID,\n",
    "                            instrument=instrument,\n",
    "                            data=data)"
   ]
  },
  {
   "cell_type": "code",
   "execution_count": 14,
   "metadata": {},
   "outputs": [
    {
     "data": {
      "text/plain": [
       "{'longOrderCreateTransaction': {'type': 'MARKET_ORDER',\n",
       "  'instrument': 'AUD_USD',\n",
       "  'units': '-100',\n",
       "  'timeInForce': 'FOK',\n",
       "  'positionFill': 'REDUCE_ONLY',\n",
       "  'reason': 'POSITION_CLOSEOUT',\n",
       "  'longPositionCloseout': {'instrument': 'AUD_USD', 'units': 'ALL'},\n",
       "  'id': '26',\n",
       "  'userID': 5120019,\n",
       "  'accountID': '101-003-5120019-001',\n",
       "  'batchID': '26',\n",
       "  'requestID': '78475265958901460',\n",
       "  'time': '2018-06-27T09:37:00.342395956Z'},\n",
       " 'longOrderFillTransaction': {'type': 'ORDER_FILL',\n",
       "  'orderID': '26',\n",
       "  'instrument': 'AUD_USD',\n",
       "  'units': '-100',\n",
       "  'price': '0.73782',\n",
       "  'pl': '-0.0123',\n",
       "  'financing': '0.0000',\n",
       "  'commission': '0.0000',\n",
       "  'accountBalance': '99999.9481',\n",
       "  'gainQuoteHomeConversionFactor': '1.36373',\n",
       "  'lossQuoteHomeConversionFactor': '1.36393',\n",
       "  'guaranteedExecutionFee': '0.0000',\n",
       "  'halfSpreadCost': '0.0089',\n",
       "  'reason': 'MARKET_ORDER_POSITION_CLOSEOUT',\n",
       "  'tradesClosed': [{'tradeID': '21',\n",
       "    'units': '-100',\n",
       "    'realizedPL': '-0.0123',\n",
       "    'financing': '0.0000',\n",
       "    'price': '0.73782',\n",
       "    'guaranteedExecutionFee': '0.0000',\n",
       "    'halfSpreadCost': '0.0089'}],\n",
       "  'fullPrice': {'closeoutBid': '0.73767',\n",
       "   'closeoutAsk': '0.73810',\n",
       "   'timestamp': '2018-06-27T09:36:06.932442212Z',\n",
       "   'bids': [{'price': '0.73782', 'liquidity': '10000000'}],\n",
       "   'asks': [{'price': '0.73795', 'liquidity': '10000000'}]},\n",
       "  'id': '27',\n",
       "  'userID': 5120019,\n",
       "  'accountID': '101-003-5120019-001',\n",
       "  'batchID': '26',\n",
       "  'requestID': '78475265958901460',\n",
       "  'time': '2018-06-27T09:37:00.342395956Z'},\n",
       " 'relatedTransactionIDs': ['26', '27'],\n",
       " 'lastTransactionID': '27'}"
      ]
     },
     "execution_count": 14,
     "metadata": {},
     "output_type": "execute_result"
    }
   ],
   "source": [
    "client.request(r)"
   ]
  },
  {
   "cell_type": "markdown",
   "metadata": {},
   "source": [
    "<!--NAVIGATION-->\n",
    "< [Trade Management](05.00 Trade Management.ipynb) | [Contents](Index.ipynb) | [Transaction History](07.00 Transaction History.ipynb) >\n"
   ]
  }
 ],
 "metadata": {
  "anaconda-cloud": {},
  "kernelspec": {
   "display_name": "Python 3",
   "language": "python",
   "name": "python3"
  },
  "language_info": {
   "codemirror_mode": {
    "name": "ipython",
    "version": 3
   },
   "file_extension": ".py",
   "mimetype": "text/x-python",
   "name": "python",
   "nbconvert_exporter": "python",
   "pygments_lexer": "ipython3",
   "version": "3.6.3"
  }
 },
 "nbformat": 4,
 "nbformat_minor": 1
}
