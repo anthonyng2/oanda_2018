{
 "cells": [
  {
   "cell_type": "markdown",
   "metadata": {},
   "source": [
    "# Python Algo Trading: FX Trading with Oanda\n",
    "\n",
    "[Oanda v20 REST API documentation](http://developer.oanda.com/rest-live-v20/introduction/) \n",
    "\n",
    "*Anthony NG @ June 2018*"
   ]
  },
  {
   "cell_type": "markdown",
   "metadata": {},
   "source": [
    "## Table of Contents\n",
    "\n",
    "### 0. [Preface](00.00 How to Build Your Own Automated Trading System in Python With OANDA API.ipynb)\n",
    "\n",
    "### 1. [Introduction](01.00 Introduction.ipynb)\n",
    "\n",
    "### 2. [Account Information](02.00 Account Information.ipynb)\n",
    "- Obtaining Account Information\n",
    "- Obtaining Specific Account Information\n",
    "\n",
    "### 3. [Instrument](03.00 Instrument.ipynb)\n",
    "\n",
    "\n",
    "### 4. [Order Management](04.00 Order Management.ipynb)\n",
    "- Creating Orders\n",
    "- Getting Open Orders\n",
    "- Getting Specific Order Information\n",
    "- Modify Order\n",
    "- Close Order\n",
    "\n",
    "### 5. [Trade Management](05.00 Trade Management.ipynb)\n",
    "- Get a List of All Open Trades\n",
    "- Get Specific Trade Information\n",
    "- Modify a Trade\n",
    "- Close an Open Trade\n",
    "\n",
    "### 6. [Position Management](06.00 Position Management.ipynb)\n",
    "- Position Management\n",
    "- Get a List of All Open Positions\n",
    "- Get The Position of An Instrument\n",
    "- Close An Existing Position\n",
    "\n",
    "### 7. [Transaction History](07.00 Transaction History.ipynb)\n",
    "- Obtaining Transaction History\n",
    "- Get Specific Transaction Information\n",
    "\n",
    "\n",
    "### 8. [Pricing](08.00 Pricing.ipynb)\n",
    "- Obtaining Market Rates\n",
    "- Obtaining a List of Tradable Instruments\n",
    "- Getting Historical Price\n",
    "\n"
   ]
  },
  {
   "cell_type": "markdown",
   "metadata": {},
   "source": [
    "***"
   ]
  }
 ],
 "metadata": {
  "anaconda-cloud": {},
  "kernelspec": {
   "display_name": "Python 3",
   "language": "python",
   "name": "python3"
  },
  "language_info": {
   "codemirror_mode": {
    "name": "ipython",
    "version": 3
   },
   "file_extension": ".py",
   "mimetype": "text/x-python",
   "name": "python",
   "nbconvert_exporter": "python",
   "pygments_lexer": "ipython3",
   "version": "3.6.5"
  }
 },
 "nbformat": 4,
 "nbformat_minor": 1
}
