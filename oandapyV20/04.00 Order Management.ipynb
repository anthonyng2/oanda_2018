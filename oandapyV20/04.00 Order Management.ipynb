{
 "cells": [
  {
   "cell_type": "markdown",
   "metadata": {},
   "source": [
    "<!--NAVIGATION-->\n",
    "< [Instrument](03.00 Instrument.ipynb) | [Contents](Index.ipynb) | [Trade Management](05.00 Trade Management.ipynb) >"
   ]
  },
  {
   "cell_type": "markdown",
   "metadata": {},
   "source": [
    "# Order Management"
   ]
  },
  {
   "cell_type": "markdown",
   "metadata": {},
   "source": [
    "[OANDA REST-V20 API wrapper doc on Order](http://oanda-api-v20.readthedocs.io/en/latest/endpoints/orders.html)\n",
    "\n",
    "[OANDA API Getting Started](http://developer.oanda.com/rest-live-v20/introduction/)\n",
    "\n",
    "[OANDA API Order](http://developer.oanda.com/rest-live-v20/orders-ep/)\n"
   ]
  },
  {
   "cell_type": "markdown",
   "metadata": {},
   "source": [
    "## Create an Order for an Account"
   ]
  },
  {
   "cell_type": "code",
   "execution_count": 1,
   "metadata": {},
   "outputs": [],
   "source": [
    "import pandas as pd\n",
    "import oandapyV20\n",
    "import oandapyV20.endpoints.orders as orders\n",
    "import configparser"
   ]
  },
  {
   "cell_type": "code",
   "execution_count": 2,
   "metadata": {},
   "outputs": [],
   "source": [
    "config = configparser.ConfigParser()\n",
    "config.read('../config/config_v20.ini')\n",
    "accountID = config['oanda']['account_id']\n",
    "access_token = config['oanda']['api_key']"
   ]
  },
  {
   "cell_type": "code",
   "execution_count": 3,
   "metadata": {},
   "outputs": [],
   "source": [
    "client = oandapyV20.API(access_token=access_token)"
   ]
  },
  {
   "cell_type": "code",
   "execution_count": 4,
   "metadata": {},
   "outputs": [],
   "source": [
    "data = {\n",
    "  \"order\": {\n",
    "    \"price\": \"1.2\",\n",
    "    \"stopLossOnFill\": {\n",
    "      \"timeInForce\": \"GTC\",\n",
    "      \"price\": \"1.22\"\n",
    "    },\n",
    "    \"timeInForce\": \"GTC\",\n",
    "    \"instrument\": \"EUR_USD\",\n",
    "    \"units\": \"-100\",\n",
    "    \"type\": \"LIMIT\",\n",
    "    \"positionFill\": \"DEFAULT\"\n",
    "  }\n",
    "}"
   ]
  },
  {
   "cell_type": "code",
   "execution_count": 5,
   "metadata": {},
   "outputs": [],
   "source": [
    "r = orders.OrderCreate(accountID, data=data)"
   ]
  },
  {
   "cell_type": "code",
   "execution_count": 6,
   "metadata": {},
   "outputs": [
    {
     "data": {
      "text/plain": [
       "{'orderCreateTransaction': {'type': 'LIMIT_ORDER',\n",
       "  'instrument': 'EUR_USD',\n",
       "  'units': '-100',\n",
       "  'price': '1.20000',\n",
       "  'timeInForce': 'GTC',\n",
       "  'triggerCondition': 'DEFAULT',\n",
       "  'partialFill': 'DEFAULT',\n",
       "  'positionFill': 'DEFAULT',\n",
       "  'stopLossOnFill': {'price': '1.22000', 'timeInForce': 'GTC'},\n",
       "  'reason': 'CLIENT_ORDER',\n",
       "  'id': '14',\n",
       "  'userID': 5120019,\n",
       "  'accountID': '101-003-5120019-001',\n",
       "  'batchID': '14',\n",
       "  'requestID': '78475265493194549',\n",
       "  'time': '2018-06-27T09:35:09.611736309Z'},\n",
       " 'relatedTransactionIDs': ['14'],\n",
       " 'lastTransactionID': '14'}"
      ]
     },
     "execution_count": 6,
     "metadata": {},
     "output_type": "execute_result"
    }
   ],
   "source": [
    "client.request(r)"
   ]
  },
  {
   "cell_type": "code",
   "execution_count": 7,
   "metadata": {},
   "outputs": [
    {
     "name": "stdout",
     "output_type": "stream",
     "text": [
      "{'orderCreateTransaction': {'type': 'LIMIT_ORDER', 'instrument': 'EUR_USD', 'units': '-100', 'price': '1.20000', 'timeInForce': 'GTC', 'triggerCondition': 'DEFAULT', 'partialFill': 'DEFAULT', 'positionFill': 'DEFAULT', 'stopLossOnFill': {'price': '1.22000', 'timeInForce': 'GTC'}, 'reason': 'CLIENT_ORDER', 'id': '14', 'userID': 5120019, 'accountID': '101-003-5120019-001', 'batchID': '14', 'requestID': '78475265493194549', 'time': '2018-06-27T09:35:09.611736309Z'}, 'relatedTransactionIDs': ['14'], 'lastTransactionID': '14'}\n"
     ]
    }
   ],
   "source": [
    "print(r.response)"
   ]
  },
  {
   "cell_type": "code",
   "execution_count": 8,
   "metadata": {},
   "outputs": [
    {
     "data": {
      "text/plain": [
       "accountID                                  101-003-5120019-001\n",
       "batchID                                                     14\n",
       "id                                                          14\n",
       "instrument                                             EUR_USD\n",
       "partialFill                                            DEFAULT\n",
       "positionFill                                           DEFAULT\n",
       "price                                                  1.20000\n",
       "reason                                            CLIENT_ORDER\n",
       "requestID                                    78475265493194549\n",
       "stopLossOnFill      {'price': '1.22000', 'timeInForce': 'GTC'}\n",
       "time                            2018-06-27T09:35:09.611736309Z\n",
       "timeInForce                                                GTC\n",
       "triggerCondition                                       DEFAULT\n",
       "type                                               LIMIT_ORDER\n",
       "units                                                     -100\n",
       "userID                                                 5120019\n",
       "dtype: object"
      ]
     },
     "execution_count": 8,
     "metadata": {},
     "output_type": "execute_result"
    }
   ],
   "source": [
    "pd.Series(r.response['orderCreateTransaction'])"
   ]
  },
  {
   "cell_type": "markdown",
   "metadata": {},
   "source": [
    "## Get a List of Orders for an Account"
   ]
  },
  {
   "cell_type": "code",
   "execution_count": 9,
   "metadata": {},
   "outputs": [],
   "source": [
    "r = orders.OrderList(accountID)"
   ]
  },
  {
   "cell_type": "code",
   "execution_count": 10,
   "metadata": {},
   "outputs": [
    {
     "data": {
      "text/plain": [
       "{'orders': [{'id': '14',\n",
       "   'createTime': '2018-06-27T09:35:09.611736309Z',\n",
       "   'type': 'LIMIT',\n",
       "   'instrument': 'EUR_USD',\n",
       "   'units': '-100',\n",
       "   'timeInForce': 'GTC',\n",
       "   'stopLossOnFill': {'price': '1.22000', 'timeInForce': 'GTC'},\n",
       "   'price': '1.20000',\n",
       "   'triggerCondition': 'DEFAULT',\n",
       "   'partialFill': 'DEFAULT_FILL',\n",
       "   'positionFill': 'DEFAULT',\n",
       "   'state': 'PENDING'}],\n",
       " 'lastTransactionID': '14'}"
      ]
     },
     "execution_count": 10,
     "metadata": {},
     "output_type": "execute_result"
    }
   ],
   "source": [
    "client.request(r)"
   ]
  },
  {
   "cell_type": "code",
   "execution_count": 11,
   "metadata": {},
   "outputs": [
    {
     "name": "stdout",
     "output_type": "stream",
     "text": [
      "{'orders': [{'id': '14', 'createTime': '2018-06-27T09:35:09.611736309Z', 'type': 'LIMIT', 'instrument': 'EUR_USD', 'units': '-100', 'timeInForce': 'GTC', 'stopLossOnFill': {'price': '1.22000', 'timeInForce': 'GTC'}, 'price': '1.20000', 'triggerCondition': 'DEFAULT', 'partialFill': 'DEFAULT_FILL', 'positionFill': 'DEFAULT', 'state': 'PENDING'}], 'lastTransactionID': '14'}\n"
     ]
    }
   ],
   "source": [
    "print(r.response)"
   ]
  },
  {
   "cell_type": "code",
   "execution_count": 12,
   "metadata": {},
   "outputs": [
    {
     "data": {
      "text/plain": [
       "createTime                      2018-06-27T09:35:09.611736309Z\n",
       "id                                                          14\n",
       "instrument                                             EUR_USD\n",
       "partialFill                                       DEFAULT_FILL\n",
       "positionFill                                           DEFAULT\n",
       "price                                                  1.20000\n",
       "state                                                  PENDING\n",
       "stopLossOnFill      {'price': '1.22000', 'timeInForce': 'GTC'}\n",
       "timeInForce                                                GTC\n",
       "triggerCondition                                       DEFAULT\n",
       "type                                                     LIMIT\n",
       "units                                                     -100\n",
       "dtype: object"
      ]
     },
     "execution_count": 12,
     "metadata": {},
     "output_type": "execute_result"
    }
   ],
   "source": [
    "pd.Series(r.response['orders'][0])"
   ]
  },
  {
   "cell_type": "markdown",
   "metadata": {},
   "source": [
    "## List all Pending Orders in an Account"
   ]
  },
  {
   "cell_type": "code",
   "execution_count": 13,
   "metadata": {},
   "outputs": [],
   "source": [
    "r = orders.OrdersPending(accountID)"
   ]
  },
  {
   "cell_type": "code",
   "execution_count": 14,
   "metadata": {},
   "outputs": [
    {
     "data": {
      "text/plain": [
       "{'orders': [{'id': '14',\n",
       "   'createTime': '2018-06-27T09:35:09.611736309Z',\n",
       "   'type': 'LIMIT',\n",
       "   'instrument': 'EUR_USD',\n",
       "   'units': '-100',\n",
       "   'timeInForce': 'GTC',\n",
       "   'stopLossOnFill': {'price': '1.22000', 'timeInForce': 'GTC'},\n",
       "   'price': '1.20000',\n",
       "   'triggerCondition': 'DEFAULT',\n",
       "   'partialFill': 'DEFAULT_FILL',\n",
       "   'positionFill': 'DEFAULT',\n",
       "   'state': 'PENDING'}],\n",
       " 'lastTransactionID': '14'}"
      ]
     },
     "execution_count": 14,
     "metadata": {},
     "output_type": "execute_result"
    }
   ],
   "source": [
    "client.request(r)"
   ]
  },
  {
   "cell_type": "code",
   "execution_count": 15,
   "metadata": {},
   "outputs": [
    {
     "name": "stdout",
     "output_type": "stream",
     "text": [
      "{'orders': [{'id': '14', 'createTime': '2018-06-27T09:35:09.611736309Z', 'type': 'LIMIT', 'instrument': 'EUR_USD', 'units': '-100', 'timeInForce': 'GTC', 'stopLossOnFill': {'price': '1.22000', 'timeInForce': 'GTC'}, 'price': '1.20000', 'triggerCondition': 'DEFAULT', 'partialFill': 'DEFAULT_FILL', 'positionFill': 'DEFAULT', 'state': 'PENDING'}], 'lastTransactionID': '14'}\n"
     ]
    }
   ],
   "source": [
    "print(r.response)"
   ]
  },
  {
   "cell_type": "code",
   "execution_count": 16,
   "metadata": {},
   "outputs": [],
   "source": [
    "res = r.response['orders']"
   ]
  },
  {
   "cell_type": "code",
   "execution_count": 17,
   "metadata": {},
   "outputs": [
    {
     "name": "stdout",
     "output_type": "stream",
     "text": [
      "[{'id': '14', 'createTime': '2018-06-27T09:35:09.611736309Z', 'type': 'LIMIT', 'instrument': 'EUR_USD', 'units': '-100', 'timeInForce': 'GTC', 'stopLossOnFill': {'price': '1.22000', 'timeInForce': 'GTC'}, 'price': '1.20000', 'triggerCondition': 'DEFAULT', 'partialFill': 'DEFAULT_FILL', 'positionFill': 'DEFAULT', 'state': 'PENDING'}]\n"
     ]
    }
   ],
   "source": [
    "print(res)"
   ]
  },
  {
   "cell_type": "code",
   "execution_count": 18,
   "metadata": {},
   "outputs": [],
   "source": [
    "last_order_id = res[0]['id']"
   ]
  },
  {
   "cell_type": "code",
   "execution_count": 19,
   "metadata": {},
   "outputs": [
    {
     "data": {
      "text/plain": [
       "createTime                      2018-06-27T09:35:09.611736309Z\n",
       "id                                                          14\n",
       "instrument                                             EUR_USD\n",
       "partialFill                                       DEFAULT_FILL\n",
       "positionFill                                           DEFAULT\n",
       "price                                                  1.20000\n",
       "state                                                  PENDING\n",
       "stopLossOnFill      {'price': '1.22000', 'timeInForce': 'GTC'}\n",
       "timeInForce                                                GTC\n",
       "triggerCondition                                       DEFAULT\n",
       "type                                                     LIMIT\n",
       "units                                                     -100\n",
       "dtype: object"
      ]
     },
     "execution_count": 19,
     "metadata": {},
     "output_type": "execute_result"
    }
   ],
   "source": [
    "pd.Series(r.response['orders'][0])"
   ]
  },
  {
   "cell_type": "markdown",
   "metadata": {},
   "source": [
    "## Get Details for a Single Order in an Account"
   ]
  },
  {
   "cell_type": "code",
   "execution_count": 20,
   "metadata": {},
   "outputs": [],
   "source": [
    "r = orders.OrderDetails(accountID=accountID, orderID=last_order_id)"
   ]
  },
  {
   "cell_type": "code",
   "execution_count": 21,
   "metadata": {},
   "outputs": [
    {
     "data": {
      "text/plain": [
       "{'order': {'id': '14',\n",
       "  'createTime': '2018-06-27T09:35:09.611736309Z',\n",
       "  'type': 'LIMIT',\n",
       "  'instrument': 'EUR_USD',\n",
       "  'units': '-100',\n",
       "  'timeInForce': 'GTC',\n",
       "  'stopLossOnFill': {'price': '1.22000', 'timeInForce': 'GTC'},\n",
       "  'price': '1.20000',\n",
       "  'triggerCondition': 'DEFAULT',\n",
       "  'partialFill': 'DEFAULT_FILL',\n",
       "  'positionFill': 'DEFAULT',\n",
       "  'state': 'PENDING'},\n",
       " 'lastTransactionID': '14'}"
      ]
     },
     "execution_count": 21,
     "metadata": {},
     "output_type": "execute_result"
    }
   ],
   "source": [
    "client.request(r)"
   ]
  },
  {
   "cell_type": "markdown",
   "metadata": {},
   "source": [
    "## Replace an Order in an Account by simultaneously cancelling it and createing a replacement Order."
   ]
  },
  {
   "cell_type": "code",
   "execution_count": 22,
   "metadata": {},
   "outputs": [],
   "source": [
    "data = {\n",
    "  \"order\": {\n",
    "    \"units\": \"-500000\",\n",
    "    \"instrument\": \"EUR_USD\",\n",
    "    \"price\": \"1.25000\",\n",
    "    \"type\": \"LIMIT\"\n",
    "  }\n",
    "}"
   ]
  },
  {
   "cell_type": "code",
   "execution_count": 23,
   "metadata": {},
   "outputs": [],
   "source": [
    "r = orders.OrderReplace(accountID=accountID, orderID=last_order_id, data=data)"
   ]
  },
  {
   "cell_type": "code",
   "execution_count": 24,
   "metadata": {},
   "outputs": [
    {
     "data": {
      "text/plain": [
       "{'orderCancelTransaction': {'type': 'ORDER_CANCEL',\n",
       "  'orderID': '14',\n",
       "  'replacedByOrderID': '16',\n",
       "  'reason': 'CLIENT_REQUEST_REPLACED',\n",
       "  'id': '15',\n",
       "  'userID': 5120019,\n",
       "  'accountID': '101-003-5120019-001',\n",
       "  'batchID': '15',\n",
       "  'requestID': '78475265547737462',\n",
       "  'time': '2018-06-27T09:35:22.748573021Z'},\n",
       " 'orderCreateTransaction': {'type': 'LIMIT_ORDER',\n",
       "  'instrument': 'EUR_USD',\n",
       "  'units': '-500000',\n",
       "  'price': '1.25000',\n",
       "  'timeInForce': 'GTC',\n",
       "  'triggerCondition': 'DEFAULT',\n",
       "  'partialFill': 'DEFAULT',\n",
       "  'positionFill': 'DEFAULT',\n",
       "  'reason': 'REPLACEMENT',\n",
       "  'replacesOrderID': '14',\n",
       "  'id': '16',\n",
       "  'userID': 5120019,\n",
       "  'accountID': '101-003-5120019-001',\n",
       "  'batchID': '15',\n",
       "  'requestID': '78475265547737462',\n",
       "  'time': '2018-06-27T09:35:22.748573021Z'},\n",
       " 'relatedTransactionIDs': ['15', '16'],\n",
       " 'lastTransactionID': '16'}"
      ]
     },
     "execution_count": 24,
     "metadata": {},
     "output_type": "execute_result"
    }
   ],
   "source": [
    "client.request(r)"
   ]
  },
  {
   "cell_type": "code",
   "execution_count": 25,
   "metadata": {},
   "outputs": [
    {
     "name": "stdout",
     "output_type": "stream",
     "text": [
      "{'orderCancelTransaction': {'type': 'ORDER_CANCEL', 'orderID': '14', 'replacedByOrderID': '16', 'reason': 'CLIENT_REQUEST_REPLACED', 'id': '15', 'userID': 5120019, 'accountID': '101-003-5120019-001', 'batchID': '15', 'requestID': '78475265547737462', 'time': '2018-06-27T09:35:22.748573021Z'}, 'orderCreateTransaction': {'type': 'LIMIT_ORDER', 'instrument': 'EUR_USD', 'units': '-500000', 'price': '1.25000', 'timeInForce': 'GTC', 'triggerCondition': 'DEFAULT', 'partialFill': 'DEFAULT', 'positionFill': 'DEFAULT', 'reason': 'REPLACEMENT', 'replacesOrderID': '14', 'id': '16', 'userID': 5120019, 'accountID': '101-003-5120019-001', 'batchID': '15', 'requestID': '78475265547737462', 'time': '2018-06-27T09:35:22.748573021Z'}, 'relatedTransactionIDs': ['15', '16'], 'lastTransactionID': '16'}\n"
     ]
    }
   ],
   "source": [
    "print(r.response)"
   ]
  },
  {
   "cell_type": "code",
   "execution_count": 26,
   "metadata": {},
   "outputs": [],
   "source": [
    "req_id = r.response['lastTransactionID']"
   ]
  },
  {
   "cell_type": "markdown",
   "metadata": {},
   "source": [
    "## Cancel a pending Order in an Account."
   ]
  },
  {
   "cell_type": "code",
   "execution_count": 27,
   "metadata": {},
   "outputs": [],
   "source": [
    "r = orders.OrderCancel(accountID=accountID, orderID=req_id)"
   ]
  },
  {
   "cell_type": "code",
   "execution_count": 28,
   "metadata": {},
   "outputs": [
    {
     "data": {
      "text/plain": [
       "{'orderCancelTransaction': {'type': 'ORDER_CANCEL',\n",
       "  'orderID': '16',\n",
       "  'reason': 'CLIENT_REQUEST',\n",
       "  'id': '17',\n",
       "  'userID': 5120019,\n",
       "  'accountID': '101-003-5120019-001',\n",
       "  'batchID': '17',\n",
       "  'requestID': '78475265560323456',\n",
       "  'time': '2018-06-27T09:35:25.216981276Z'},\n",
       " 'relatedTransactionIDs': ['17'],\n",
       " 'lastTransactionID': '17'}"
      ]
     },
     "execution_count": 28,
     "metadata": {},
     "output_type": "execute_result"
    }
   ],
   "source": [
    "client.request(r)"
   ]
  },
  {
   "cell_type": "code",
   "execution_count": 29,
   "metadata": {},
   "outputs": [
    {
     "name": "stdout",
     "output_type": "stream",
     "text": [
      "{'orderCancelTransaction': {'type': 'ORDER_CANCEL', 'orderID': '16', 'reason': 'CLIENT_REQUEST', 'id': '17', 'userID': 5120019, 'accountID': '101-003-5120019-001', 'batchID': '17', 'requestID': '78475265560323456', 'time': '2018-06-27T09:35:25.216981276Z'}, 'relatedTransactionIDs': ['17'], 'lastTransactionID': '17'}\n"
     ]
    }
   ],
   "source": [
    "print(r.response)"
   ]
  },
  {
   "cell_type": "code",
   "execution_count": 30,
   "metadata": {},
   "outputs": [
    {
     "data": {
      "text/plain": [
       "'14'"
      ]
     },
     "execution_count": 30,
     "metadata": {},
     "output_type": "execute_result"
    }
   ],
   "source": [
    "last_order_id"
   ]
  },
  {
   "cell_type": "markdown",
   "metadata": {},
   "source": [
    "# MKT Order"
   ]
  },
  {
   "cell_type": "code",
   "execution_count": 43,
   "metadata": {},
   "outputs": [],
   "source": [
    "data = {\"order\": \n",
    "        {\"units\": \"100\", \n",
    "         \"instrument\": \"EUR_USD\", \n",
    "         \"timeInForce\": \"FOK\", \n",
    "         \"type\": \"MARKET\", \n",
    "         \"positionFill\": \"DEFAULT\"\n",
    "        },\n",
    "       }"
   ]
  },
  {
   "cell_type": "code",
   "execution_count": 44,
   "metadata": {},
   "outputs": [],
   "source": [
    "r = orders.OrderCreate(accountID, data=data)"
   ]
  },
  {
   "cell_type": "code",
   "execution_count": 45,
   "metadata": {},
   "outputs": [
    {
     "data": {
      "text/plain": [
       "{'orderCreateTransaction': {'type': 'MARKET_ORDER',\n",
       "  'instrument': 'EUR_USD',\n",
       "  'units': '100',\n",
       "  'timeInForce': 'FOK',\n",
       "  'positionFill': 'DEFAULT',\n",
       "  'reason': 'CLIENT_ORDER',\n",
       "  'id': '22',\n",
       "  'userID': 5120019,\n",
       "  'accountID': '101-003-5120019-001',\n",
       "  'batchID': '22',\n",
       "  'requestID': '78475265757515465',\n",
       "  'time': '2018-06-27T09:36:12.964984863Z'},\n",
       " 'orderFillTransaction': {'type': 'ORDER_FILL',\n",
       "  'orderID': '22',\n",
       "  'instrument': 'EUR_USD',\n",
       "  'units': '100',\n",
       "  'price': '1.16377',\n",
       "  'pl': '0.0000',\n",
       "  'financing': '0.0000',\n",
       "  'commission': '0.0000',\n",
       "  'accountBalance': '99999.9604',\n",
       "  'gainQuoteHomeConversionFactor': '1.36376',\n",
       "  'lossQuoteHomeConversionFactor': '1.36394',\n",
       "  'guaranteedExecutionFee': '0.0000',\n",
       "  'halfSpreadCost': '0.0089',\n",
       "  'reason': 'MARKET_ORDER',\n",
       "  'tradeOpened': {'price': '1.16377',\n",
       "   'tradeID': '23',\n",
       "   'units': '100',\n",
       "   'guaranteedExecutionFee': '0.0000',\n",
       "   'halfSpreadCost': '0.0089',\n",
       "   'initialMarginRequired': '3.1742'},\n",
       "  'fullPrice': {'closeoutBid': '1.16349',\n",
       "   'closeoutAsk': '1.16392',\n",
       "   'timestamp': '2018-06-27T09:36:07.712138542Z',\n",
       "   'bids': [{'price': '1.16364', 'liquidity': '10000000'}],\n",
       "   'asks': [{'price': '1.16377', 'liquidity': '10000000'}]},\n",
       "  'id': '23',\n",
       "  'userID': 5120019,\n",
       "  'accountID': '101-003-5120019-001',\n",
       "  'batchID': '22',\n",
       "  'requestID': '78475265757515465',\n",
       "  'time': '2018-06-27T09:36:12.964984863Z'},\n",
       " 'relatedTransactionIDs': ['22', '23'],\n",
       " 'lastTransactionID': '23'}"
      ]
     },
     "execution_count": 45,
     "metadata": {},
     "output_type": "execute_result"
    }
   ],
   "source": [
    "client.request(r)"
   ]
  },
  {
   "cell_type": "code",
   "execution_count": 46,
   "metadata": {},
   "outputs": [
    {
     "name": "stdout",
     "output_type": "stream",
     "text": [
      "{'orderCreateTransaction': {'type': 'MARKET_ORDER', 'instrument': 'EUR_USD', 'units': '100', 'timeInForce': 'FOK', 'positionFill': 'DEFAULT', 'reason': 'CLIENT_ORDER', 'id': '22', 'userID': 5120019, 'accountID': '101-003-5120019-001', 'batchID': '22', 'requestID': '78475265757515465', 'time': '2018-06-27T09:36:12.964984863Z'}, 'orderFillTransaction': {'type': 'ORDER_FILL', 'orderID': '22', 'instrument': 'EUR_USD', 'units': '100', 'price': '1.16377', 'pl': '0.0000', 'financing': '0.0000', 'commission': '0.0000', 'accountBalance': '99999.9604', 'gainQuoteHomeConversionFactor': '1.36376', 'lossQuoteHomeConversionFactor': '1.36394', 'guaranteedExecutionFee': '0.0000', 'halfSpreadCost': '0.0089', 'reason': 'MARKET_ORDER', 'tradeOpened': {'price': '1.16377', 'tradeID': '23', 'units': '100', 'guaranteedExecutionFee': '0.0000', 'halfSpreadCost': '0.0089', 'initialMarginRequired': '3.1742'}, 'fullPrice': {'closeoutBid': '1.16349', 'closeoutAsk': '1.16392', 'timestamp': '2018-06-27T09:36:07.712138542Z', 'bids': [{'price': '1.16364', 'liquidity': '10000000'}], 'asks': [{'price': '1.16377', 'liquidity': '10000000'}]}, 'id': '23', 'userID': 5120019, 'accountID': '101-003-5120019-001', 'batchID': '22', 'requestID': '78475265757515465', 'time': '2018-06-27T09:36:12.964984863Z'}, 'relatedTransactionIDs': ['22', '23'], 'lastTransactionID': '23'}\n"
     ]
    }
   ],
   "source": [
    "print(r.response)"
   ]
  },
  {
   "cell_type": "code",
   "execution_count": 47,
   "metadata": {},
   "outputs": [
    {
     "data": {
      "text/plain": [
       "accountID                  101-003-5120019-001\n",
       "batchID                                     22\n",
       "id                                          22\n",
       "instrument                             EUR_USD\n",
       "positionFill                           DEFAULT\n",
       "reason                            CLIENT_ORDER\n",
       "requestID                    78475265757515465\n",
       "time            2018-06-27T09:36:12.964984863Z\n",
       "timeInForce                                FOK\n",
       "type                              MARKET_ORDER\n",
       "units                                      100\n",
       "userID                                 5120019\n",
       "dtype: object"
      ]
     },
     "execution_count": 47,
     "metadata": {},
     "output_type": "execute_result"
    }
   ],
   "source": [
    "pd.Series(r.response['orderCreateTransaction'])"
   ]
  },
  {
   "cell_type": "code",
   "execution_count": 48,
   "metadata": {},
   "outputs": [
    {
     "data": {
      "text/plain": [
       "accountBalance                                                          99999.9604\n",
       "accountID                                                      101-003-5120019-001\n",
       "batchID                                                                         22\n",
       "commission                                                                  0.0000\n",
       "financing                                                                   0.0000\n",
       "fullPrice                        {'closeoutBid': '1.16349', 'closeoutAsk': '1.1...\n",
       "gainQuoteHomeConversionFactor                                              1.36376\n",
       "guaranteedExecutionFee                                                      0.0000\n",
       "halfSpreadCost                                                              0.0089\n",
       "id                                                                              23\n",
       "instrument                                                                 EUR_USD\n",
       "lossQuoteHomeConversionFactor                                              1.36394\n",
       "orderID                                                                         22\n",
       "pl                                                                          0.0000\n",
       "price                                                                      1.16377\n",
       "reason                                                                MARKET_ORDER\n",
       "requestID                                                        78475265757515465\n",
       "time                                                2018-06-27T09:36:12.964984863Z\n",
       "tradeOpened                      {'price': '1.16377', 'tradeID': '23', 'units':...\n",
       "type                                                                    ORDER_FILL\n",
       "units                                                                          100\n",
       "userID                                                                     5120019\n",
       "dtype: object"
      ]
     },
     "execution_count": 48,
     "metadata": {},
     "output_type": "execute_result"
    }
   ],
   "source": [
    "pd.Series(r.response['orderFillTransaction'])"
   ]
  },
  {
   "cell_type": "markdown",
   "metadata": {},
   "source": [
    "<!--NAVIGATION-->\n",
    "< [Instrument](03.00 Instrument.ipynb) | [Contents](Index.ipynb) | [Trade Management](05.00 Trade Management.ipynb) >"
   ]
  },
  {
   "cell_type": "markdown",
   "metadata": {},
   "source": [
    "***"
   ]
  }
 ],
 "metadata": {
  "anaconda-cloud": {},
  "kernelspec": {
   "display_name": "Python 3",
   "language": "python",
   "name": "python3"
  },
  "language_info": {
   "codemirror_mode": {
    "name": "ipython",
    "version": 3
   },
   "file_extension": ".py",
   "mimetype": "text/x-python",
   "name": "python",
   "nbconvert_exporter": "python",
   "pygments_lexer": "ipython3",
   "version": "3.6.3"
  }
 },
 "nbformat": 4,
 "nbformat_minor": 1
}
