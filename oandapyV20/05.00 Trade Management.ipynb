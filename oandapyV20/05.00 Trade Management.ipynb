{
 "cells": [
  {
   "cell_type": "markdown",
   "metadata": {},
   "source": [
    "<!--NAVIGATION-->\n",
    "< [Order Management](04.00 Order Management.ipynb) | [Contents](Index.ipynb) | [Position Management](06.00 Position Management.ipynb) >"
   ]
  },
  {
   "cell_type": "markdown",
   "metadata": {},
   "source": [
    "# Trade Management"
   ]
  },
  {
   "cell_type": "markdown",
   "metadata": {},
   "source": [
    "[OANDA REST-V20 API Wrapper Doc on Trade](http://oanda-api-v20.readthedocs.io/en/latest/endpoints/trades/opentrades.html)\n",
    "\n",
    "[OANDA API Getting Started](http://developer.oanda.com/rest-live-v20/introduction/)\n",
    "\n",
    "[OANDA API Trade](http://developer.oanda.com/rest-live-v20/trades-ep/)"
   ]
  },
  {
   "cell_type": "code",
   "execution_count": 8,
   "metadata": {},
   "outputs": [],
   "source": [
    "import pandas as pd\n",
    "import oandapyV20\n",
    "import oandapyV20.endpoints.trades as trades \n",
    "import configparser"
   ]
  },
  {
   "cell_type": "code",
   "execution_count": 9,
   "metadata": {},
   "outputs": [],
   "source": [
    "config = configparser.ConfigParser()\n",
    "config.read('../config/config_v20.ini')\n",
    "accountID = config['oanda']['account_id']\n",
    "access_token = config['oanda']['api_key']"
   ]
  },
  {
   "cell_type": "markdown",
   "metadata": {},
   "source": [
    "## Get a list of trades for an Account."
   ]
  },
  {
   "cell_type": "code",
   "execution_count": 10,
   "metadata": {},
   "outputs": [],
   "source": [
    "client = oandapyV20.API(access_token=access_token)"
   ]
  },
  {
   "cell_type": "code",
   "execution_count": 11,
   "metadata": {},
   "outputs": [],
   "source": [
    "params ={\n",
    "          \"instrument\": \"EUR_USD\"\n",
    "        }"
   ]
  },
  {
   "cell_type": "code",
   "execution_count": 12,
   "metadata": {},
   "outputs": [],
   "source": [
    "r = trades.TradesList(accountID=accountID, params=params)"
   ]
  },
  {
   "cell_type": "code",
   "execution_count": 13,
   "metadata": {},
   "outputs": [
    {
     "data": {
      "text/plain": [
       "{'trades': [{'id': '23',\n",
       "   'instrument': 'EUR_USD',\n",
       "   'price': '1.16377',\n",
       "   'openTime': '2018-06-27T09:36:12.964984863Z',\n",
       "   'initialUnits': '100',\n",
       "   'initialMarginRequired': '3.1742',\n",
       "   'state': 'OPEN',\n",
       "   'currentUnits': '100',\n",
       "   'realizedPL': '0.0000',\n",
       "   'financing': '0.0000',\n",
       "   'unrealizedPL': '0.0000',\n",
       "   'marginUsed': '3.1745'}],\n",
       " 'lastTransactionID': '23'}"
      ]
     },
     "execution_count": 13,
     "metadata": {},
     "output_type": "execute_result"
    }
   ],
   "source": [
    "client.request(r)"
   ]
  },
  {
   "cell_type": "code",
   "execution_count": 14,
   "metadata": {},
   "outputs": [
    {
     "name": "stdout",
     "output_type": "stream",
     "text": [
      "{'trades': [{'id': '23', 'instrument': 'EUR_USD', 'price': '1.16377', 'openTime': '2018-06-27T09:36:12.964984863Z', 'initialUnits': '100', 'initialMarginRequired': '3.1742', 'state': 'OPEN', 'currentUnits': '100', 'realizedPL': '0.0000', 'financing': '0.0000', 'unrealizedPL': '0.0000', 'marginUsed': '3.1745'}], 'lastTransactionID': '23'}\n"
     ]
    }
   ],
   "source": [
    "print(r.response)"
   ]
  },
  {
   "cell_type": "markdown",
   "metadata": {},
   "source": [
    "## Get the list of open Trades for an Account."
   ]
  },
  {
   "cell_type": "code",
   "execution_count": 15,
   "metadata": {},
   "outputs": [],
   "source": [
    "r = trades.OpenTrades(accountID)"
   ]
  },
  {
   "cell_type": "code",
   "execution_count": 16,
   "metadata": {},
   "outputs": [
    {
     "data": {
      "text/plain": [
       "{'trades': [{'id': '23',\n",
       "   'instrument': 'EUR_USD',\n",
       "   'price': '1.16377',\n",
       "   'openTime': '2018-06-27T09:36:12.964984863Z',\n",
       "   'initialUnits': '100',\n",
       "   'initialMarginRequired': '3.1742',\n",
       "   'state': 'OPEN',\n",
       "   'currentUnits': '100',\n",
       "   'realizedPL': '0.0000',\n",
       "   'financing': '0.0000',\n",
       "   'unrealizedPL': '0.0014',\n",
       "   'marginUsed': '3.1745'},\n",
       "  {'id': '21',\n",
       "   'instrument': 'AUD_USD',\n",
       "   'price': '0.73791',\n",
       "   'openTime': '2018-06-27T09:35:47.925360392Z',\n",
       "   'initialUnits': '100',\n",
       "   'initialMarginRequired': '3.0188',\n",
       "   'state': 'OPEN',\n",
       "   'currentUnits': '100',\n",
       "   'realizedPL': '0.0000',\n",
       "   'financing': '0.0000',\n",
       "   'unrealizedPL': '-0.0123',\n",
       "   'marginUsed': '3.0190'},\n",
       "  {'id': '19',\n",
       "   'instrument': 'GBP_USD',\n",
       "   'price': '1.32130',\n",
       "   'openTime': '2018-06-27T09:35:31.156313869Z',\n",
       "   'initialUnits': '100',\n",
       "   'initialMarginRequired': '3.6036',\n",
       "   'state': 'OPEN',\n",
       "   'currentUnits': '100',\n",
       "   'realizedPL': '0.0000',\n",
       "   'financing': '0.0000',\n",
       "   'unrealizedPL': '-0.0382',\n",
       "   'marginUsed': '3.6034'}],\n",
       " 'lastTransactionID': '23'}"
      ]
     },
     "execution_count": 16,
     "metadata": {},
     "output_type": "execute_result"
    }
   ],
   "source": [
    "client.request(r)"
   ]
  },
  {
   "cell_type": "code",
   "execution_count": 17,
   "metadata": {},
   "outputs": [
    {
     "data": {
      "text/plain": [
       "{'trades': [{'id': '23',\n",
       "   'instrument': 'EUR_USD',\n",
       "   'price': '1.16377',\n",
       "   'openTime': '2018-06-27T09:36:12.964984863Z',\n",
       "   'initialUnits': '100',\n",
       "   'initialMarginRequired': '3.1742',\n",
       "   'state': 'OPEN',\n",
       "   'currentUnits': '100',\n",
       "   'realizedPL': '0.0000',\n",
       "   'financing': '0.0000',\n",
       "   'unrealizedPL': '0.0014',\n",
       "   'marginUsed': '3.1745'},\n",
       "  {'id': '21',\n",
       "   'instrument': 'AUD_USD',\n",
       "   'price': '0.73791',\n",
       "   'openTime': '2018-06-27T09:35:47.925360392Z',\n",
       "   'initialUnits': '100',\n",
       "   'initialMarginRequired': '3.0188',\n",
       "   'state': 'OPEN',\n",
       "   'currentUnits': '100',\n",
       "   'realizedPL': '0.0000',\n",
       "   'financing': '0.0000',\n",
       "   'unrealizedPL': '-0.0123',\n",
       "   'marginUsed': '3.0190'},\n",
       "  {'id': '19',\n",
       "   'instrument': 'GBP_USD',\n",
       "   'price': '1.32130',\n",
       "   'openTime': '2018-06-27T09:35:31.156313869Z',\n",
       "   'initialUnits': '100',\n",
       "   'initialMarginRequired': '3.6036',\n",
       "   'state': 'OPEN',\n",
       "   'currentUnits': '100',\n",
       "   'realizedPL': '0.0000',\n",
       "   'financing': '0.0000',\n",
       "   'unrealizedPL': '-0.0382',\n",
       "   'marginUsed': '3.6034'}],\n",
       " 'lastTransactionID': '23'}"
      ]
     },
     "execution_count": 17,
     "metadata": {},
     "output_type": "execute_result"
    }
   ],
   "source": [
    "r.response"
   ]
  },
  {
   "cell_type": "code",
   "execution_count": 18,
   "metadata": {},
   "outputs": [],
   "source": [
    "trade_id = r.response['trades'][0]['id']"
   ]
  },
  {
   "cell_type": "markdown",
   "metadata": {},
   "source": [
    "## Get the details of a specific Trade in an Account."
   ]
  },
  {
   "cell_type": "code",
   "execution_count": 19,
   "metadata": {},
   "outputs": [],
   "source": [
    "r = trades.TradeDetails(accountID, tradeID=trade_id)"
   ]
  },
  {
   "cell_type": "code",
   "execution_count": 20,
   "metadata": {},
   "outputs": [
    {
     "data": {
      "text/plain": [
       "{'trade': {'id': '23',\n",
       "  'instrument': 'EUR_USD',\n",
       "  'price': '1.16377',\n",
       "  'openTime': '2018-06-27T09:36:12.964984863Z',\n",
       "  'initialUnits': '100',\n",
       "  'initialMarginRequired': '3.1742',\n",
       "  'state': 'OPEN',\n",
       "  'currentUnits': '100',\n",
       "  'realizedPL': '0.0000',\n",
       "  'financing': '0.0000',\n",
       "  'unrealizedPL': '0.0000',\n",
       "  'marginUsed': '3.1745'},\n",
       " 'lastTransactionID': '23'}"
      ]
     },
     "execution_count": 20,
     "metadata": {},
     "output_type": "execute_result"
    }
   ],
   "source": [
    "client.request(r)"
   ]
  },
  {
   "cell_type": "code",
   "execution_count": 21,
   "metadata": {},
   "outputs": [
    {
     "name": "stdout",
     "output_type": "stream",
     "text": [
      "{'trade': {'id': '23', 'instrument': 'EUR_USD', 'price': '1.16377', 'openTime': '2018-06-27T09:36:12.964984863Z', 'initialUnits': '100', 'initialMarginRequired': '3.1742', 'state': 'OPEN', 'currentUnits': '100', 'realizedPL': '0.0000', 'financing': '0.0000', 'unrealizedPL': '0.0000', 'marginUsed': '3.1745'}, 'lastTransactionID': '23'}\n"
     ]
    }
   ],
   "source": [
    "print(r.response)"
   ]
  },
  {
   "cell_type": "markdown",
   "metadata": {},
   "source": [
    "## Close (partially or fully) a specific open Trade in an Account."
   ]
  },
  {
   "cell_type": "code",
   "execution_count": 22,
   "metadata": {},
   "outputs": [],
   "source": [
    "data = {\n",
    "          \"units\": 100\n",
    "       }"
   ]
  },
  {
   "cell_type": "code",
   "execution_count": 23,
   "metadata": {},
   "outputs": [],
   "source": [
    "r = trades.TradeClose(accountID, tradeID=trade_id)"
   ]
  },
  {
   "cell_type": "code",
   "execution_count": 24,
   "metadata": {},
   "outputs": [
    {
     "data": {
      "text/plain": [
       "{'orderCreateTransaction': {'type': 'MARKET_ORDER',\n",
       "  'instrument': 'EUR_USD',\n",
       "  'units': '-100',\n",
       "  'timeInForce': 'FOK',\n",
       "  'positionFill': 'REDUCE_ONLY',\n",
       "  'reason': 'TRADE_CLOSE',\n",
       "  'tradeClose': {'units': 'ALL', 'tradeID': '23'},\n",
       "  'id': '24',\n",
       "  'userID': 5120019,\n",
       "  'accountID': '101-003-5120019-001',\n",
       "  'batchID': '24',\n",
       "  'requestID': '78475265841426238',\n",
       "  'time': '2018-06-27T09:36:32.782305808Z'},\n",
       " 'orderFillTransaction': {'type': 'ORDER_FILL',\n",
       "  'orderID': '24',\n",
       "  'instrument': 'EUR_USD',\n",
       "  'units': '-100',\n",
       "  'price': '1.16377',\n",
       "  'pl': '0.0000',\n",
       "  'financing': '0.0000',\n",
       "  'commission': '0.0000',\n",
       "  'accountBalance': '99999.9604',\n",
       "  'gainQuoteHomeConversionFactor': '1.36372',\n",
       "  'lossQuoteHomeConversionFactor': '1.36390',\n",
       "  'guaranteedExecutionFee': '0.0000',\n",
       "  'halfSpreadCost': '0.0082',\n",
       "  'reason': 'MARKET_ORDER_TRADE_CLOSE',\n",
       "  'tradesClosed': [{'tradeID': '23',\n",
       "    'units': '-100',\n",
       "    'realizedPL': '0.0000',\n",
       "    'financing': '0.0000',\n",
       "    'price': '1.16377',\n",
       "    'guaranteedExecutionFee': '0.0000',\n",
       "    'halfSpreadCost': '0.0082'}],\n",
       "  'fullPrice': {'closeoutBid': '1.16362',\n",
       "   'closeoutAsk': '1.16404',\n",
       "   'timestamp': '2018-06-27T09:36:29.821288421Z',\n",
       "   'bids': [{'price': '1.16377', 'liquidity': '10000000'}],\n",
       "   'asks': [{'price': '1.16389', 'liquidity': '10000000'}]},\n",
       "  'id': '25',\n",
       "  'userID': 5120019,\n",
       "  'accountID': '101-003-5120019-001',\n",
       "  'batchID': '24',\n",
       "  'requestID': '78475265841426238',\n",
       "  'time': '2018-06-27T09:36:32.782305808Z'},\n",
       " 'relatedTransactionIDs': ['24', '25'],\n",
       " 'lastTransactionID': '25'}"
      ]
     },
     "execution_count": 24,
     "metadata": {},
     "output_type": "execute_result"
    }
   ],
   "source": [
    "client.request(r)"
   ]
  },
  {
   "cell_type": "markdown",
   "metadata": {},
   "source": [
    "<!--NAVIGATION-->\n",
    "< [Order Management](04.00 Order Management.ipynb) | [Contents](Index.ipynb) | [Position Management](06.00 Position Management.ipynb) >"
   ]
  },
  {
   "cell_type": "markdown",
   "metadata": {},
   "source": [
    "***"
   ]
  }
 ],
 "metadata": {
  "anaconda-cloud": {},
  "kernelspec": {
   "display_name": "Python 3",
   "language": "python",
   "name": "python3"
  },
  "language_info": {
   "codemirror_mode": {
    "name": "ipython",
    "version": 3
   },
   "file_extension": ".py",
   "mimetype": "text/x-python",
   "name": "python",
   "nbconvert_exporter": "python",
   "pygments_lexer": "ipython3",
   "version": "3.6.3"
  }
 },
 "nbformat": 4,
 "nbformat_minor": 1
}
