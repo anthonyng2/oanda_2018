{
 "cells": [
  {
   "cell_type": "markdown",
   "metadata": {},
   "source": [
    "<!--NAVIGATION-->\n",
    "< [Transaction History](07.00 Transaction History.ipynb) | [Contents](Index.ipynb) >"
   ]
  },
  {
   "cell_type": "markdown",
   "metadata": {},
   "source": [
    "# Pricing"
   ]
  },
  {
   "cell_type": "markdown",
   "metadata": {},
   "source": [
    "[OANDA REST-V20 API wrapper doc on Pricing / Rates](http://oanda-api-v20.readthedocs.io/en/latest/endpoints/pricing.html)\n",
    "\n",
    "[OANDA API Getting Started](http://developer.oanda.com/rest-live-v20/introduction/)\n",
    "\n",
    "[OANDA API Pricing](http://developer.oanda.com/rest-live-v20/pricing-ep/)"
   ]
  },
  {
   "cell_type": "code",
   "execution_count": 30,
   "metadata": {},
   "outputs": [],
   "source": [
    "import pandas as pd\n",
    "import oandapyV20\n",
    "from oandapyV20 import API\n",
    "import oandapyV20.endpoints.pricing as pricing\n",
    "import configparser"
   ]
  },
  {
   "cell_type": "code",
   "execution_count": 31,
   "metadata": {},
   "outputs": [],
   "source": [
    "config = configparser.ConfigParser()\n",
    "config.read('../config/config_v20.ini')\n",
    "accountID = config['oanda']['account_id']\n",
    "access_token = config['oanda']['api_key']\n",
    "api = API(access_token=access_token)"
   ]
  },
  {
   "cell_type": "code",
   "execution_count": 32,
   "metadata": {},
   "outputs": [],
   "source": [
    "params ={\n",
    "          \"instruments\": \"EUR_USD,EUR_JPY\"\n",
    "        }"
   ]
  },
  {
   "cell_type": "code",
   "execution_count": 33,
   "metadata": {},
   "outputs": [],
   "source": [
    "r = pricing.PricingInfo(accountID=accountID, params=params)"
   ]
  },
  {
   "cell_type": "code",
   "execution_count": 34,
   "metadata": {},
   "outputs": [],
   "source": [
    "rv = api.request(r)"
   ]
  },
  {
   "cell_type": "code",
   "execution_count": 35,
   "metadata": {},
   "outputs": [
    {
     "name": "stdout",
     "output_type": "stream",
     "text": [
      "{'time': '2018-06-27T09:54:23.102333070Z', 'prices': [{'type': 'PRICE', 'time': '2018-06-27T09:54:08.290337277Z', 'bids': [{'price': '1.16373', 'liquidity': 10000000}], 'asks': [{'price': '1.16387', 'liquidity': 10000000}], 'closeoutBid': '1.16358', 'closeoutAsk': '1.16402', 'status': 'tradeable', 'tradeable': True, 'unitsAvailable': {'default': {'long': '3151494', 'short': '3151494'}, 'openOnly': {'long': '3151494', 'short': '3151494'}, 'reduceFirst': {'long': '3151494', 'short': '3151494'}, 'reduceOnly': {'long': '0', 'short': '0'}}, 'quoteHomeConversionFactors': {'positiveUnits': '1.36310000', 'negativeUnits': '1.36329000'}, 'instrument': 'EUR_USD'}, {'type': 'PRICE', 'time': '2018-06-27T09:54:13.368087121Z', 'bids': [{'price': '127.854', 'liquidity': 10000000}], 'asks': [{'price': '127.872', 'liquidity': 10000000}], 'closeoutBid': '127.854', 'closeoutAsk': '127.872', 'status': 'tradeable', 'tradeable': True, 'unitsAvailable': {'default': {'long': '3151494', 'short': '3151494'}, 'openOnly': {'long': '3151494', 'short': '3151494'}, 'reduceFirst': {'long': '3151494', 'short': '3151494'}, 'reduceOnly': {'long': '0', 'short': '0'}}, 'quoteHomeConversionFactors': {'positiveUnits': '0.01240602', 'negativeUnits': '0.01240926'}, 'instrument': 'EUR_JPY'}]}\n"
     ]
    }
   ],
   "source": [
    "print(r.response)"
   ]
  },
  {
   "cell_type": "code",
   "execution_count": 36,
   "metadata": {},
   "outputs": [
    {
     "data": {
      "text/html": [
       "<div>\n",
       "<style scoped>\n",
       "    .dataframe tbody tr th:only-of-type {\n",
       "        vertical-align: middle;\n",
       "    }\n",
       "\n",
       "    .dataframe tbody tr th {\n",
       "        vertical-align: top;\n",
       "    }\n",
       "\n",
       "    .dataframe thead th {\n",
       "        text-align: right;\n",
       "    }\n",
       "</style>\n",
       "<table border=\"1\" class=\"dataframe\">\n",
       "  <thead>\n",
       "    <tr style=\"text-align: right;\">\n",
       "      <th></th>\n",
       "      <th>asks</th>\n",
       "      <th>bids</th>\n",
       "      <th>closeoutAsk</th>\n",
       "      <th>closeoutBid</th>\n",
       "      <th>instrument</th>\n",
       "      <th>quoteHomeConversionFactors</th>\n",
       "      <th>status</th>\n",
       "      <th>time</th>\n",
       "      <th>tradeable</th>\n",
       "      <th>type</th>\n",
       "      <th>unitsAvailable</th>\n",
       "    </tr>\n",
       "  </thead>\n",
       "  <tbody>\n",
       "    <tr>\n",
       "      <th>0</th>\n",
       "      <td>[{'price': '1.16387', 'liquidity': 10000000}]</td>\n",
       "      <td>[{'price': '1.16373', 'liquidity': 10000000}]</td>\n",
       "      <td>1.16402</td>\n",
       "      <td>1.16358</td>\n",
       "      <td>EUR_USD</td>\n",
       "      <td>{'positiveUnits': '1.36310000', 'negativeUnits...</td>\n",
       "      <td>tradeable</td>\n",
       "      <td>2018-06-27T09:54:08.290337277Z</td>\n",
       "      <td>True</td>\n",
       "      <td>PRICE</td>\n",
       "      <td>{'default': {'long': '3151494', 'short': '3151...</td>\n",
       "    </tr>\n",
       "    <tr>\n",
       "      <th>1</th>\n",
       "      <td>[{'price': '127.872', 'liquidity': 10000000}]</td>\n",
       "      <td>[{'price': '127.854', 'liquidity': 10000000}]</td>\n",
       "      <td>127.872</td>\n",
       "      <td>127.854</td>\n",
       "      <td>EUR_JPY</td>\n",
       "      <td>{'positiveUnits': '0.01240602', 'negativeUnits...</td>\n",
       "      <td>tradeable</td>\n",
       "      <td>2018-06-27T09:54:13.368087121Z</td>\n",
       "      <td>True</td>\n",
       "      <td>PRICE</td>\n",
       "      <td>{'default': {'long': '3151494', 'short': '3151...</td>\n",
       "    </tr>\n",
       "  </tbody>\n",
       "</table>\n",
       "</div>"
      ],
      "text/plain": [
       "                                            asks  \\\n",
       "0  [{'price': '1.16387', 'liquidity': 10000000}]   \n",
       "1  [{'price': '127.872', 'liquidity': 10000000}]   \n",
       "\n",
       "                                            bids closeoutAsk closeoutBid  \\\n",
       "0  [{'price': '1.16373', 'liquidity': 10000000}]     1.16402     1.16358   \n",
       "1  [{'price': '127.854', 'liquidity': 10000000}]     127.872     127.854   \n",
       "\n",
       "  instrument                         quoteHomeConversionFactors     status  \\\n",
       "0    EUR_USD  {'positiveUnits': '1.36310000', 'negativeUnits...  tradeable   \n",
       "1    EUR_JPY  {'positiveUnits': '0.01240602', 'negativeUnits...  tradeable   \n",
       "\n",
       "                             time  tradeable   type  \\\n",
       "0  2018-06-27T09:54:08.290337277Z       True  PRICE   \n",
       "1  2018-06-27T09:54:13.368087121Z       True  PRICE   \n",
       "\n",
       "                                      unitsAvailable  \n",
       "0  {'default': {'long': '3151494', 'short': '3151...  \n",
       "1  {'default': {'long': '3151494', 'short': '3151...  "
      ]
     },
     "execution_count": 36,
     "metadata": {},
     "output_type": "execute_result"
    }
   ],
   "source": [
    "pd.DataFrame(r.response['prices'])"
   ]
  },
  {
   "cell_type": "code",
   "execution_count": 37,
   "metadata": {},
   "outputs": [
    {
     "data": {
      "text/plain": [
       "[{'type': 'PRICE',\n",
       "  'time': '2018-06-27T09:54:08.290337277Z',\n",
       "  'bids': [{'price': '1.16373', 'liquidity': 10000000}],\n",
       "  'asks': [{'price': '1.16387', 'liquidity': 10000000}],\n",
       "  'closeoutBid': '1.16358',\n",
       "  'closeoutAsk': '1.16402',\n",
       "  'status': 'tradeable',\n",
       "  'tradeable': True,\n",
       "  'unitsAvailable': {'default': {'long': '3151494', 'short': '3151494'},\n",
       "   'openOnly': {'long': '3151494', 'short': '3151494'},\n",
       "   'reduceFirst': {'long': '3151494', 'short': '3151494'},\n",
       "   'reduceOnly': {'long': '0', 'short': '0'}},\n",
       "  'quoteHomeConversionFactors': {'positiveUnits': '1.36310000',\n",
       "   'negativeUnits': '1.36329000'},\n",
       "  'instrument': 'EUR_USD'},\n",
       " {'type': 'PRICE',\n",
       "  'time': '2018-06-27T09:54:13.368087121Z',\n",
       "  'bids': [{'price': '127.854', 'liquidity': 10000000}],\n",
       "  'asks': [{'price': '127.872', 'liquidity': 10000000}],\n",
       "  'closeoutBid': '127.854',\n",
       "  'closeoutAsk': '127.872',\n",
       "  'status': 'tradeable',\n",
       "  'tradeable': True,\n",
       "  'unitsAvailable': {'default': {'long': '3151494', 'short': '3151494'},\n",
       "   'openOnly': {'long': '3151494', 'short': '3151494'},\n",
       "   'reduceFirst': {'long': '3151494', 'short': '3151494'},\n",
       "   'reduceOnly': {'long': '0', 'short': '0'}},\n",
       "  'quoteHomeConversionFactors': {'positiveUnits': '0.01240602',\n",
       "   'negativeUnits': '0.01240926'},\n",
       "  'instrument': 'EUR_JPY'}]"
      ]
     },
     "execution_count": 37,
     "metadata": {},
     "output_type": "execute_result"
    }
   ],
   "source": [
    "r.response['prices']"
   ]
  },
  {
   "cell_type": "markdown",
   "metadata": {},
   "source": [
    "<!--NAVIGATION-->\n",
    "< [Transaction History](07.00 Transaction History.ipynb) | [Contents](Index.ipynb) >"
   ]
  },
  {
   "cell_type": "markdown",
   "metadata": {},
   "source": [
    "***"
   ]
  }
 ],
 "metadata": {
  "anaconda-cloud": {},
  "kernelspec": {
   "display_name": "Python 3",
   "language": "python",
   "name": "python3"
  },
  "language_info": {
   "codemirror_mode": {
    "name": "ipython",
    "version": 3
   },
   "file_extension": ".py",
   "mimetype": "text/x-python",
   "name": "python",
   "nbconvert_exporter": "python",
   "pygments_lexer": "ipython3",
   "version": "3.6.3"
  }
 },
 "nbformat": 4,
 "nbformat_minor": 1
}
