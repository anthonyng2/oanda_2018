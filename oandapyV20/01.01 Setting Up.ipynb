{
 "cells": [
  {
   "cell_type": "markdown",
   "metadata": {},
   "source": [
    "<!--NAVIGATION-->\n",
    "< [How to Build Your Own Automated Trading System in Python With OANDA API](00.00 How to Build Your Own Automated Trading System in Python With OANDA API.ipynb) | [Contents](Index.ipynb) | [Account Information](02.00 Account Information.ipynb) >"
   ]
  },
  {
   "cell_type": "markdown",
   "metadata": {},
   "source": [
    "# Setting Up"
   ]
  },
  {
   "cell_type": "markdown",
   "metadata": {},
   "source": [
    "Before we start, there are a few parts that we need to set up to get started. I assume you already have a copy of Python installed. If you are new to Python, [Continuum Analytics'](https://www.continuum.io/) [Anaconda](https://www.continuum.io/downloads) package is great. Just download and install."
   ]
  },
  {
   "cell_type": "markdown",
   "metadata": {},
   "source": [
    "***"
   ]
  },
  {
   "cell_type": "markdown",
   "metadata": {},
   "source": [
    "# Setting Up An Oanda Account"
   ]
  },
  {
   "cell_type": "markdown",
   "metadata": {},
   "source": [
    "We also need an account with Oanda and install an associated package call [oandapyV20](http://oanda-api-v20.readthedocs.io/en/latest/installation.html) to get the example working.\n",
    "\n",
    "To set up a practice account with Oandas, head to their [website](https://www.oanda.com/) and you should see something similar to the following. Select the demo option and you should see the [fxTrade Practice](https://www.oanda.com/demo-account/login?app_name=SecureSignIn&next=%2Fdemo-account%2F) account application page."
   ]
  },
  {
   "cell_type": "markdown",
   "metadata": {},
   "source": [
    "<img src=\"../img/Oanda_Welcome_Screen.PNG\">"
   ]
  },
  {
   "cell_type": "markdown",
   "metadata": {},
   "source": [
    "***"
   ]
  },
  {
   "cell_type": "markdown",
   "metadata": {},
   "source": [
    "# Installing oandapyV20"
   ]
  },
  {
   "cell_type": "markdown",
   "metadata": {},
   "source": [
    "Once the account has been set up, we need to install the [oandapyV20](http://oanda-api-v20.readthedocs.io/en/latest/index.html#) to play nicely with the Oanda API. You can install [oandapyV20](http://oanda-api-v20.readthedocs.io/en/latest/index.html#) using pip. Copy and paste the following line to your command line / terminal:\n",
    "\n",
    "> pip install oandapyV20"
   ]
  },
  {
   "cell_type": "markdown",
   "metadata": {},
   "source": [
    "# Oanda fxTrade Practive Account View"
   ]
  },
  {
   "cell_type": "markdown",
   "metadata": {},
   "source": [
    "<img src=\"../img/Account_Landing_Screen.PNG\">"
   ]
  },
  {
   "cell_type": "markdown",
   "metadata": {},
   "source": [
    "# API Key and Account ID"
   ]
  },
  {
   "cell_type": "markdown",
   "metadata": {},
   "source": [
    "Before we close off this section, there are two more things we need to do. We need the **API Key** and the **Account ID**. To obtain the **API Key**, we to go to **Manage API Access** under **My Services**. For **Account ID**, it can be obtained from **Managed Funds**. I attached a screehshot below to help you locate these."
   ]
  },
  {
   "cell_type": "markdown",
   "metadata": {},
   "source": [
    "## API Key"
   ]
  },
  {
   "cell_type": "markdown",
   "metadata": {},
   "source": [
    "<img src=\"../img/Account_Landing_Screen_2.PNG\">"
   ]
  },
  {
   "cell_type": "markdown",
   "metadata": {},
   "source": [
    "When you select **Manage API Access**, you should be brought to the following screen. Make sure you read the API License Agreement and once you agreed with the terms and conditions, click the **Generate** button."
   ]
  },
  {
   "cell_type": "markdown",
   "metadata": {},
   "source": [
    "<img src=\"../img/Generate_API_KEY.PNG\">"
   ]
  },
  {
   "cell_type": "markdown",
   "metadata": {},
   "source": [
    "You should then come to the following screen with your **API Key**. Copy it to your clipboard and keep it somewhere **safe**! Along with the Account ID, these provides almost full access to your Oanda account."
   ]
  },
  {
   "cell_type": "markdown",
   "metadata": {},
   "source": [
    "<img src=\"../img/API_KEY.PNG\">"
   ]
  },
  {
   "cell_type": "markdown",
   "metadata": {},
   "source": [
    "Head back to the main screen and select the **Managed Funds** button and you should come to the following Summary of Accounts - fxTrade Practice screen. You **Account ID** is next to the **Primary** Account Name."
   ]
  },
  {
   "cell_type": "markdown",
   "metadata": {},
   "source": [
    "## Account ID"
   ]
  },
  {
   "cell_type": "markdown",
   "metadata": {},
   "source": [
    "<img src=\"../img/Managed Funds.PNG\">"
   ]
  },
  {
   "cell_type": "markdown",
   "metadata": {},
   "source": [
    "<!--NAVIGATION-->\n",
    "< [How to Build Your Own Automated Trading System in Python With OANDA API](00.00 How to Build Your Own Automated Trading System in Python With OANDA API.ipynb) | [Contents](Index.ipynb) | [Account Information](02.00 Account Information.ipynb) >"
   ]
  },
  {
   "cell_type": "markdown",
   "metadata": {},
   "source": [
    "***"
   ]
  }
 ],
 "metadata": {
  "anaconda-cloud": {},
  "kernelspec": {
   "display_name": "Python 3",
   "language": "python",
   "name": "python3"
  },
  "language_info": {
   "codemirror_mode": {
    "name": "ipython",
    "version": 3
   },
   "file_extension": ".py",
   "mimetype": "text/x-python",
   "name": "python",
   "nbconvert_exporter": "python",
   "pygments_lexer": "ipython3",
   "version": "3.6.3"
  }
 },
 "nbformat": 4,
 "nbformat_minor": 1
}
