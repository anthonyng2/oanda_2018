{
 "cells": [
  {
   "cell_type": "markdown",
   "metadata": {},
   "source": [
    "<!--NAVIGATION-->\n",
    "< [How to Build Your Own Automated Trading System in Python With OANDA API](00.00 How to Build Your Own Automated Trading System in Python With OANDA API.ipynb) | [Contents](Index.ipynb) | [Setting Up](01.01 Setting Up.ipynb) >"
   ]
  },
  {
   "cell_type": "markdown",
   "metadata": {},
   "source": [
    "# Disclaimer \n",
    "\n",
    "- This presentation is for informational purposes only and does not constitute an offer to sell, a solicitation to buy, or a recommendation for any security; nor does it constitute an offer to provide investment advisory or other services.\n",
    "\n",
    "- Nothing contained herein constitutes investment advice or offers any opinion with respect to the suitability of any security, and any views expressed herein should not be taken as advice to buy, sell, or hold any security or as an endorsement of any security or company. \n",
    "\n",
    "- In preparing the information contained herein, the investment needs, objectives, and financial circumstances of any particular investor has not been taken into account. \n",
    "\n",
    "- Any views expressed and data illustrated herein were prepared based upon information, believed to be reliable, available to at the time of publication. \n",
    "\n",
    "- No guarantees has been made the accuracy or completeness of the information contained within. \n",
    "\n",
    "- All information is subject to change and may quickly become unreliable for various reasons, including changes in market conditions or economic circumstances."
   ]
  },
  {
   "cell_type": "markdown",
   "metadata": {},
   "source": [
    "# Introduction"
   ]
  },
  {
   "cell_type": "markdown",
   "metadata": {},
   "source": [
    "NB:\n",
    "\n",
    "- API subject to change\n",
    "- v20 account number format is in the form of 000-000-0000000-000"
   ]
  },
  {
   "cell_type": "markdown",
   "metadata": {},
   "source": [
    "<!--NAVIGATION-->\n",
    "< [How to Build Your Own Automated Trading System in Python With OANDA API](00.00 How to Build Your Own Automated Trading System in Python With OANDA API.ipynb) | [Contents](Index.ipynb) | [Setting Up](01.01 Setting Up.ipynb) >"
   ]
  }
 ],
 "metadata": {
  "anaconda-cloud": {},
  "kernelspec": {
   "display_name": "Python 3",
   "language": "python",
   "name": "python3"
  },
  "language_info": {
   "codemirror_mode": {
    "name": "ipython",
    "version": 3
   },
   "file_extension": ".py",
   "mimetype": "text/x-python",
   "name": "python",
   "nbconvert_exporter": "python",
   "pygments_lexer": "ipython3",
   "version": "3.6.3"
  }
 },
 "nbformat": 4,
 "nbformat_minor": 1
}
